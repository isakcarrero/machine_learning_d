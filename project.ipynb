{
 "cells": [
  {
   "cell_type": "code",
   "execution_count": 2,
   "metadata": {},
   "outputs": [],
   "source": [
    "import pandas as pd"
   ]
  },
  {
   "cell_type": "code",
   "execution_count": 3,
   "metadata": {},
   "outputs": [
    {
     "name": "stdout",
     "output_type": "stream",
     "text": [
      "<bound method NDFrame.head of       Churn  AccountWeeks  ContractRenewal  DataPlan  DataUsage  \\\n",
      "0         0           128                1         1       2.70   \n",
      "1         0           107                1         1       3.70   \n",
      "2         0           137                1         0       0.00   \n",
      "3         0            84                0         0       0.00   \n",
      "4         0            75                0         0       0.00   \n",
      "...     ...           ...              ...       ...        ...   \n",
      "3328      0           192                1         1       2.67   \n",
      "3329      0            68                1         0       0.34   \n",
      "3330      0            28                1         0       0.00   \n",
      "3331      0           184                0         0       0.00   \n",
      "3332      0            74                1         1       3.70   \n",
      "\n",
      "      CustServCalls  DayMins  DayCalls  MonthlyCharge  OverageFee  RoamMins  \n",
      "0                 1    265.1       110           89.0        9.87      10.0  \n",
      "1                 1    161.6       123           82.0        9.78      13.7  \n",
      "2                 0    243.4       114           52.0        6.06      12.2  \n",
      "3                 2    299.4        71           57.0        3.10       6.6  \n",
      "4                 3    166.7       113           41.0        7.42      10.1  \n",
      "...             ...      ...       ...            ...         ...       ...  \n",
      "3328              2    156.2        77           71.7       10.78       9.9  \n",
      "3329              3    231.1        57           56.4        7.67       9.6  \n",
      "3330              2    180.8       109           56.0       14.44      14.1  \n",
      "3331              2    213.8       105           50.0        7.98       5.0  \n",
      "3332              0    234.4       113          100.0       13.30      13.7  \n",
      "\n",
      "[3333 rows x 11 columns]>\n"
     ]
    }
   ],
   "source": [
    "df = pd.read_csv(\"telecom_churn.csv\")\n",
    "df.head"
   ]
  }
 ],
 "metadata": {
  "kernelspec": {
   "display_name": ".conda",
   "language": "python",
   "name": "python3"
  },
  "language_info": {
   "codemirror_mode": {
    "name": "ipython",
    "version": 3
   },
   "file_extension": ".py",
   "mimetype": "text/x-python",
   "name": "python",
   "nbconvert_exporter": "python",
   "pygments_lexer": "ipython3",
   "version": "3.9.19"
  }
 },
 "nbformat": 4,
 "nbformat_minor": 2
}
